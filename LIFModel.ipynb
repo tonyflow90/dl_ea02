{
  "nbformat": 4,
  "nbformat_minor": 0,
  "metadata": {
    "colab": {
      "name": "LIFModel.ipynb",
      "provenance": [],
      "history_visible": true,
      "authorship_tag": "ABX9TyN+JOnXOugFhqouzUc9DXQ+",
      "include_colab_link": true
    },
    "kernelspec": {
      "name": "python3",
      "display_name": "Python 3"
    },
    "language_info": {
      "name": "python"
    }
  },
  "cells": [
    {
      "cell_type": "markdown",
      "metadata": {
        "id": "view-in-github",
        "colab_type": "text"
      },
      "source": [
        "<a href=\"https://colab.research.google.com/github/tonyflow90/dl_ea02/blob/main/LIFModel.ipynb\" target=\"_parent\"><img src=\"https://colab.research.google.com/assets/colab-badge.svg\" alt=\"Open In Colab\"/></a>"
      ]
    },
    {
      "cell_type": "code",
      "metadata": {
        "id": "zA3kH7Fk-AGW"
      },
      "source": [
        "# These imports will be used in the notebook\n",
        "from __future__ import print_function\n",
        "\n",
        "import tensorflow as tf\n",
        "import numpy as np\n",
        "import matplotlib.pyplot as plt\n",
        "%matplotlib inline"
      ],
      "execution_count": 7,
      "outputs": []
    },
    {
      "cell_type": "code",
      "metadata": {
        "id": "F_zSzDiK-TF0"
      },
      "source": [
        "# A basic LIF neuron\n",
        "class LIFNeuron(object):\n",
        "    \n",
        "    def __init__(self, u_rest=0.0, u_thresh=1.0, tau_rest=4.0, r=1.0, tau=10.0):\n",
        "        \n",
        "        # Membrane resting potential in mV\n",
        "        self.u_rest = u_rest\n",
        "        # Membrane threshold potential in mV\n",
        "        self.u_thresh = u_thresh\n",
        "        # Duration of the resting period in ms\n",
        "        self.tau_rest = tau_rest\n",
        "        # Membrane resistance in Ohm\n",
        "        self.r = r\n",
        "        # Membrane time constant in ms\n",
        "        self.tau = tau\n",
        "        \n",
        "        # Instantiate a graph for this neuron\n",
        "        self.graph = tf.Graph()\n",
        "        \n",
        "        # Build the graph\n",
        "        with self.graph.as_default():\n",
        "        \n",
        "            # Variables and placeholders\n",
        "            self.get_vars_and_ph()\n",
        "            \n",
        "            # Operations\n",
        "            self.input = self.get_input_op()\n",
        "            self.potential = self.get_potential_op()\n",
        "            # Note that input is a prerequisite of potential, so it will\n",
        "            # always be evaluated when potential is\n",
        "            \n",
        "    # Variables and placeholders\n",
        "    def get_vars_and_ph(self):\n",
        "\n",
        "        # The current membrane potential\n",
        "        self.u = tf.Variable(self.u_rest, dtype=tf.float32, name='u')\n",
        "        # The duration left in the resting period (0 most of the time except after a neuron spike)\n",
        "        self.t_rest = tf.Variable(0.0, dtype=tf.float32, name='t_rest')\n",
        "        # Input current\n",
        "        self.i_app = tf.placeholder(dtype=tf.float32, name='i_app')\n",
        "        # The chosen time interval for the stimulation in ms\n",
        "        self.dt = tf.placeholder(dtype=tf.float32, name='dt')\n",
        "\n",
        "    # Evaluate input current\n",
        "    def get_input_op(self):\n",
        "        \n",
        "        return self.i_app\n",
        "        \n",
        "    # Neuron behaviour during integration phase (below threshold)\n",
        "    def get_integrating_op(self):\n",
        "\n",
        "        # Get input current\n",
        "        i_op = self.get_input_op()\n",
        "\n",
        "        # Update membrane potential\n",
        "        du_op = tf.divide(tf.subtract(tf.multiply(self.r, i_op), self.u), self.tau) \n",
        "        u_op = self.u.assign_add(du_op * self.dt)\n",
        "        # Refractory period is 0\n",
        "        t_rest_op = self.t_rest.assign(0.0)\n",
        "        \n",
        "        return u_op, t_rest_op\n",
        "\n",
        "    # Neuron behaviour during firing phase (above threshold)    \n",
        "    def get_firing_op(self):                  \n",
        "\n",
        "        # Reset membrane potential\n",
        "        u_op = self.u.assign(self.u_rest)\n",
        "        # Refractory period starts now\n",
        "        t_rest_op = self.t_rest.assign(self.tau_rest)\n",
        "\n",
        "        return u_op, t_rest_op\n",
        "\n",
        "    # Neuron behaviour during resting phase (t_rest > 0)\n",
        "    def get_resting_op(self):\n",
        "\n",
        "        # Membrane potential stays at u_rest\n",
        "        u_op = self.u.assign(self.u_rest)\n",
        "        # Refractory period is decreased by dt\n",
        "        t_rest_op = self.t_rest.assign_sub(self.dt)\n",
        "        \n",
        "        return u_op, t_rest_op\n",
        "\n",
        "    def get_potential_op(self):\n",
        "        \n",
        "        return tf.case(\n",
        "            [\n",
        "                (self.t_rest > 0.0, self.get_resting_op),\n",
        "                (self.u > self.u_thresh, self.get_firing_op),\n",
        "            ],\n",
        "            default=self.get_integrating_op\n",
        "        )"
      ],
      "execution_count": 8,
      "outputs": []
    },
    {
      "cell_type": "code",
      "metadata": {
        "colab": {
          "base_uri": "https://localhost:8080/",
          "height": 374
        },
        "id": "ijLhTT4t-hwf",
        "outputId": "3c74cba0-e733-4a7f-c731-b1cedd322783"
      },
      "source": [
        "# Simulation with square input currents\n",
        "\n",
        "# Duration of the simulation in ms\n",
        "T = 200\n",
        "# Duration of each time step in ms\n",
        "dt = 1\n",
        "# Number of iterations = T/dt\n",
        "steps = int(T / dt)\n",
        "# Output variables\n",
        "I = []\n",
        "U = []\n",
        "\n",
        "neuron = LIFNeuron()\n",
        "    \n",
        "with tf.Session(graph=neuron.graph) as sess:\n",
        "\n",
        "    sess.run(tf.global_variables_initializer())    \n",
        "\n",
        "    for step in range(steps):\n",
        "        \n",
        "        t = step * dt\n",
        "        # Set input current in mA\n",
        "        if t > 10 and t < 30:\n",
        "            i_app = 0.5\n",
        "        elif t > 50 and t < 100:\n",
        "            i_app = 1.2\n",
        "        elif t > 120 and t < 180:\n",
        "            i_app = 1.5\n",
        "        else:\n",
        "            i_app = 0.0\n",
        "\n",
        "        feed = { neuron.i_app: i_app, neuron.dt: dt}\n",
        "        \n",
        "        u = sess.run(neuron.potential, feed_dict=feed)\n",
        "\n",
        "        I.append(i_app)\n",
        "        U.append(u)"
      ],
      "execution_count": 9,
      "outputs": [
        {
          "output_type": "error",
          "ename": "AttributeError",
          "evalue": "ignored",
          "traceback": [
            "\u001b[0;31m---------------------------------------------------------------------------\u001b[0m",
            "\u001b[0;31mAttributeError\u001b[0m                            Traceback (most recent call last)",
            "\u001b[0;32m<ipython-input-9-839d1d531b8b>\u001b[0m in \u001b[0;36m<module>\u001b[0;34m()\u001b[0m\n\u001b[1;32m     11\u001b[0m \u001b[0mU\u001b[0m \u001b[0;34m=\u001b[0m \u001b[0;34m[\u001b[0m\u001b[0;34m]\u001b[0m\u001b[0;34m\u001b[0m\u001b[0;34m\u001b[0m\u001b[0m\n\u001b[1;32m     12\u001b[0m \u001b[0;34m\u001b[0m\u001b[0m\n\u001b[0;32m---> 13\u001b[0;31m \u001b[0mneuron\u001b[0m \u001b[0;34m=\u001b[0m \u001b[0mLIFNeuron\u001b[0m\u001b[0;34m(\u001b[0m\u001b[0;34m)\u001b[0m\u001b[0;34m\u001b[0m\u001b[0;34m\u001b[0m\u001b[0m\n\u001b[0m\u001b[1;32m     14\u001b[0m \u001b[0;34m\u001b[0m\u001b[0m\n\u001b[1;32m     15\u001b[0m \u001b[0;32mwith\u001b[0m \u001b[0mtf\u001b[0m\u001b[0;34m.\u001b[0m\u001b[0mSession\u001b[0m\u001b[0;34m(\u001b[0m\u001b[0mgraph\u001b[0m\u001b[0;34m=\u001b[0m\u001b[0mneuron\u001b[0m\u001b[0;34m.\u001b[0m\u001b[0mgraph\u001b[0m\u001b[0;34m)\u001b[0m \u001b[0;32mas\u001b[0m \u001b[0msess\u001b[0m\u001b[0;34m:\u001b[0m\u001b[0;34m\u001b[0m\u001b[0;34m\u001b[0m\u001b[0m\n",
            "\u001b[0;32m<ipython-input-8-7ef7934e7273>\u001b[0m in \u001b[0;36m__init__\u001b[0;34m(self, u_rest, u_thresh, tau_rest, r, tau)\u001b[0m\n\u001b[1;32m     22\u001b[0m \u001b[0;34m\u001b[0m\u001b[0m\n\u001b[1;32m     23\u001b[0m             \u001b[0;31m# Variables and placeholders\u001b[0m\u001b[0;34m\u001b[0m\u001b[0;34m\u001b[0m\u001b[0;34m\u001b[0m\u001b[0m\n\u001b[0;32m---> 24\u001b[0;31m             \u001b[0mself\u001b[0m\u001b[0;34m.\u001b[0m\u001b[0mget_vars_and_ph\u001b[0m\u001b[0;34m(\u001b[0m\u001b[0;34m)\u001b[0m\u001b[0;34m\u001b[0m\u001b[0;34m\u001b[0m\u001b[0m\n\u001b[0m\u001b[1;32m     25\u001b[0m \u001b[0;34m\u001b[0m\u001b[0m\n\u001b[1;32m     26\u001b[0m             \u001b[0;31m# Operations\u001b[0m\u001b[0;34m\u001b[0m\u001b[0;34m\u001b[0m\u001b[0;34m\u001b[0m\u001b[0m\n",
            "\u001b[0;32m<ipython-input-8-7ef7934e7273>\u001b[0m in \u001b[0;36mget_vars_and_ph\u001b[0;34m(self)\u001b[0m\n\u001b[1;32m     38\u001b[0m         \u001b[0mself\u001b[0m\u001b[0;34m.\u001b[0m\u001b[0mt_rest\u001b[0m \u001b[0;34m=\u001b[0m \u001b[0mtf\u001b[0m\u001b[0;34m.\u001b[0m\u001b[0mVariable\u001b[0m\u001b[0;34m(\u001b[0m\u001b[0;36m0.0\u001b[0m\u001b[0;34m,\u001b[0m \u001b[0mdtype\u001b[0m\u001b[0;34m=\u001b[0m\u001b[0mtf\u001b[0m\u001b[0;34m.\u001b[0m\u001b[0mfloat32\u001b[0m\u001b[0;34m,\u001b[0m \u001b[0mname\u001b[0m\u001b[0;34m=\u001b[0m\u001b[0;34m't_rest'\u001b[0m\u001b[0;34m)\u001b[0m\u001b[0;34m\u001b[0m\u001b[0;34m\u001b[0m\u001b[0m\n\u001b[1;32m     39\u001b[0m         \u001b[0;31m# Input current\u001b[0m\u001b[0;34m\u001b[0m\u001b[0;34m\u001b[0m\u001b[0;34m\u001b[0m\u001b[0m\n\u001b[0;32m---> 40\u001b[0;31m         \u001b[0mself\u001b[0m\u001b[0;34m.\u001b[0m\u001b[0mi_app\u001b[0m \u001b[0;34m=\u001b[0m \u001b[0mtf\u001b[0m\u001b[0;34m.\u001b[0m\u001b[0mplaceholder\u001b[0m\u001b[0;34m(\u001b[0m\u001b[0mdtype\u001b[0m\u001b[0;34m=\u001b[0m\u001b[0mtf\u001b[0m\u001b[0;34m.\u001b[0m\u001b[0mfloat32\u001b[0m\u001b[0;34m,\u001b[0m \u001b[0mname\u001b[0m\u001b[0;34m=\u001b[0m\u001b[0;34m'i_app'\u001b[0m\u001b[0;34m)\u001b[0m\u001b[0;34m\u001b[0m\u001b[0;34m\u001b[0m\u001b[0m\n\u001b[0m\u001b[1;32m     41\u001b[0m         \u001b[0;31m# The chosen time interval for the stimulation in ms\u001b[0m\u001b[0;34m\u001b[0m\u001b[0;34m\u001b[0m\u001b[0;34m\u001b[0m\u001b[0m\n\u001b[1;32m     42\u001b[0m         \u001b[0mself\u001b[0m\u001b[0;34m.\u001b[0m\u001b[0mdt\u001b[0m \u001b[0;34m=\u001b[0m \u001b[0mtf\u001b[0m\u001b[0;34m.\u001b[0m\u001b[0mplaceholder\u001b[0m\u001b[0;34m(\u001b[0m\u001b[0mdtype\u001b[0m\u001b[0;34m=\u001b[0m\u001b[0mtf\u001b[0m\u001b[0;34m.\u001b[0m\u001b[0mfloat32\u001b[0m\u001b[0;34m,\u001b[0m \u001b[0mname\u001b[0m\u001b[0;34m=\u001b[0m\u001b[0;34m'dt'\u001b[0m\u001b[0;34m)\u001b[0m\u001b[0;34m\u001b[0m\u001b[0;34m\u001b[0m\u001b[0m\n",
            "\u001b[0;31mAttributeError\u001b[0m: module 'tensorflow' has no attribute 'placeholder'"
          ]
        }
      ]
    }
  ]
}